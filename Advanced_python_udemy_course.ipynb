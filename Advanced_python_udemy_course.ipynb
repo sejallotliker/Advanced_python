{
  "nbformat": 4,
  "nbformat_minor": 0,
  "metadata": {
    "colab": {
      "provenance": [],
      "authorship_tag": "ABX9TyMsmuMfzCLN9ktZqaKNLJkZ",
      "include_colab_link": true
    },
    "kernelspec": {
      "name": "python3",
      "display_name": "Python 3"
    },
    "language_info": {
      "name": "python"
    }
  },
  "cells": [
    {
      "cell_type": "markdown",
      "metadata": {
        "id": "view-in-github",
        "colab_type": "text"
      },
      "source": [
        "<a href=\"https://colab.research.google.com/github/sejallotliker/Advanced_python/blob/main/Advanced_python_udemy_course.ipynb\" target=\"_parent\"><img src=\"https://colab.research.google.com/assets/colab-badge.svg\" alt=\"Open In Colab\"/></a>"
      ]
    },
    {
      "cell_type": "markdown",
      "source": [
        "#Object oriented programming"
      ],
      "metadata": {
        "id": "leqaG0_efoc0"
      }
    },
    {
      "cell_type": "markdown",
      "source": [
        "##Why object-oriented programming?\n",
        "\n",
        "Creating objects allows us to organize related data and functionalities together. This helps us to write structured and flexible code.\n",
        "\n",
        "\n",
        "Now, instead of thinking in terms of individual data and functions, we start thinking in terms of objects and how one object interacts with the other. This helps us to divide a complex problem into smaller sub-problems.\n",
        "\n",
        "Also, using an object-oriented style of programming makes our code reusable because we can define multiple objects with similar attributes and functionalities from a single Class.\n",
        "\n",
        "Class is a blueprint for the object\n"
      ],
      "metadata": {
        "id": "mYyqZ2fmmHeE"
      }
    },
    {
      "cell_type": "markdown",
      "source": [
        "**Here is an example of pen and its types**\n",
        "\n",
        "* pen --> Class\n",
        "\n",
        "* black, blue --> Object\n",
        "\n",
        "* name, size, quantity --> attributes"
      ],
      "metadata": {
        "id": "SHa2bXzPCOTO"
      }
    },
    {
      "cell_type": "code",
      "execution_count": 7,
      "metadata": {
        "colab": {
          "base_uri": "https://localhost:8080/"
        },
        "id": "gP3R4eyBfG-Y",
        "outputId": "35ee55ef-9d99-448c-c9b0-4508a32654f6"
      },
      "outputs": [
        {
          "output_type": "stream",
          "name": "stdout",
          "text": [
            "blue pen is of natraj company\n",
            "black pen is of pentonic company\n"
          ]
        }
      ],
      "source": [
        "class pen:  #Here class is pen\n",
        "  pass\n",
        "\n",
        "\n",
        "black= pen() # 1st Object of the class\n",
        "blue= pen()  #2nd object of the class\n",
        "\n",
        "#Pen-1\n",
        "#Attributes (Properties of the object)\n",
        "black.name=\"pentonic\"\n",
        "black.size=\"normal\"\n",
        "black.quantity=5\n",
        "\n",
        "#pen-2\n",
        "blue.name=\"natraj\"\n",
        "blue.size=\"normal\"\n",
        "blue.quantity=10\n",
        "\n",
        "print(f'blue pen is of {blue.name} company')\n",
        "print(f'black pen is of {black.name} company')"
      ]
    },
    {
      "cell_type": "markdown",
      "source": [
        "#Another example:\n",
        "\n",
        "Class --> XII_B"
      ],
      "metadata": {
        "id": "bekzFovrCuAe"
      }
    },
    {
      "cell_type": "code",
      "source": [
        "class XII_B: #declared class\n",
        "  total_students = 50 #Class variables\n",
        "  pass\n",
        "\n",
        "#Objects_declared\n",
        "student_1 = XII_B()\n",
        "student_2 = XII_B()\n",
        "student_3 = XII_B()\n",
        "student_4 = XII_B()\n",
        "student_5 = XII_B()\n",
        "\n",
        "#attributes to objects assigned\n",
        "student_1.name = \"Sejal \"\n",
        "student_1.roll_no = \"1\"\n",
        "\n",
        "student_2.name = \"Trilochana\"\n",
        "student_2.roll_no = \"2\"\n",
        "\n",
        "student_3.name = \"Nashon\"\n",
        "student_3.roll_no =\"3\"\n",
        "\n",
        "student_4.name = \"Divya\"\n",
        "student_4.roll_no =\"4\"\n",
        "\n",
        "student_5.name = \"Kajal\"\n",
        "student_5.roll_no =\"5\"\n",
        "\n",
        "#printing the objects and attributes\n",
        "print('Student 1: ', student_1.name, ', Roll number', student_1.roll_no)\n",
        "print('Student 2: ', student_2.name, ', Roll number', student_2.roll_no)\n",
        "print('Student 3: ', student_3.name, ', Roll number', student_3.roll_no)\n",
        "print('Student 4: ', student_4.name, ', Roll number', student_4.roll_no)\n",
        "print('Student 5: ', student_5.name, ', Roll number', student_5.roll_no)\n",
        "\n",
        "#To access class variable\n",
        "print(f'Total number of students in XII Science B class are: {XII_B.total_students}')\n",
        "\n"
      ],
      "metadata": {
        "colab": {
          "base_uri": "https://localhost:8080/"
        },
        "id": "rESJGUh6__fd",
        "outputId": "9399b919-e7b1-40e9-91ba-b093ecd218dc"
      },
      "execution_count": 22,
      "outputs": [
        {
          "output_type": "stream",
          "name": "stdout",
          "text": [
            "Student 1:  Sejal  , Roll number 1\n",
            "Student 2:  Trilochana , Roll number 2\n",
            "Student 3:  Nashon , Roll number 3\n",
            "Student 4:  Divya , Roll number 4\n",
            "Student 5:  Kajal , Roll number 5\n",
            "Total number of students in XII Science B class are: 50\n"
          ]
        }
      ]
    },
    {
      "cell_type": "markdown",
      "source": [
        "#Class Variables: Class variables are the variables that are declared inside the class"
      ],
      "metadata": {
        "id": "FJKElJnEmyln"
      }
    },
    {
      "cell_type": "code",
      "source": [
        "#class variables:\n",
        "class Flower:   #To declare class\n",
        "  total_flowers=10 #To declare class variable\n",
        "  pass\n",
        "red=Flower()    #To declare object\n",
        "blue=Flower()\n",
        "\n",
        "red.count =10 #attributes of the object\n",
        "red.price =200\n",
        "\n",
        "blue.count=20\n",
        "blue.price=100\n",
        "\n",
        "print(blue.count) #Calling object and attribute\n",
        "\n",
        "print(blue.total_flowers) #To access class variables using object\n",
        "\n",
        "#To access class variable\n",
        "print(Flower.total_flowers)\n",
        "\n",
        "#We can modify class variable by assigning some value as follows:\n",
        "\n",
        "blue.total_flowers = 50\n",
        "print(blue.total_flowers)\n",
        "\n",
        "#Point to note here is that even we assign a different value for class variable, still we can access the original one !! Original value does not get changed.\n",
        "print(Flower.total_flowers)\n"
      ],
      "metadata": {
        "colab": {
          "base_uri": "https://localhost:8080/"
        },
        "id": "2ewvydIfkZrD",
        "outputId": "a3beb9e8-92f2-4fd1-b09c-1404a873bb3d"
      },
      "execution_count": 26,
      "outputs": [
        {
          "output_type": "stream",
          "name": "stdout",
          "text": [
            "20\n",
            "10\n",
            "10\n",
            "50\n",
            "10\n"
          ]
        }
      ]
    },
    {
      "cell_type": "markdown",
      "source": [
        "#Self and init constructors:\n",
        "Giving arguements to a class is called constructors"
      ],
      "metadata": {
        "id": "0zNPGqb2rjbd"
      }
    },
    {
      "cell_type": "code",
      "source": [
        "#Creating class\n",
        "class Student:\n",
        "  no_of_students=10 #Class variable\n",
        "\n",
        "  def __init__(self, aname, astandard, asection): #Defined a inbuilt function called init and passed arguements such as name, standard, section\n",
        "\n",
        "#Remember --> self is automatically passed by default\n",
        "\n",
        "    self.name= aname\n",
        "    self.standard= astandard\n",
        "    self.section= asection\n",
        "\n",
        "  def details(self):\n",
        "      print(f\"Name of the student is {self.name}, class is {self.standard} and section is {self.section}\")\n",
        "\n",
        "#Storing data of students (objects)\n",
        "one=Student(\"Riya\",\"10\",\"A\") #Passing arguements to a class. This procedure is called constructors\n",
        "two=Student(\"Seema\", \"12\", \"B\")\n",
        "\n",
        "print(two.name)\n",
        "print(one.details())"
      ],
      "metadata": {
        "id": "HpzgVsjTrshD",
        "colab": {
          "base_uri": "https://localhost:8080/"
        },
        "outputId": "552e11d8-0c66-4bea-d8f7-15a0494e9c1a"
      },
      "execution_count": 31,
      "outputs": [
        {
          "output_type": "stream",
          "name": "stdout",
          "text": [
            "Seema\n",
            "Name of the student is Riya, class is 10 and section isA\n",
            "None\n"
          ]
        }
      ]
    },
    {
      "cell_type": "code",
      "source": [
        "#Another example:\n",
        "class Student:\n",
        "  def check_pass_fail(self):\n",
        "    if self.marks>=40:\n",
        "      return True\n",
        "    else:\n",
        "      return False\n",
        "\n",
        "student1=Student()\n",
        "student1.name=\"Harry\"\n",
        "student1.marks =85\n",
        "did_pass= student1.check_pass_fail()\n",
        "print(did_pass)\n",
        "\n",
        "student2= Student()\n",
        "student2.name= \"Janet\"\n",
        "student2.marks =30\n",
        "did_pass = student2.check_pass_fail()\n",
        "print(did_pass)\n",
        "\n"
      ],
      "metadata": {
        "colab": {
          "base_uri": "https://localhost:8080/"
        },
        "id": "GbX9dovzb5xu",
        "outputId": "c9895898-a0a1-4fc5-acd4-464587c082e4"
      },
      "execution_count": null,
      "outputs": [
        {
          "output_type": "stream",
          "name": "stdout",
          "text": [
            "True\n",
            "False\n"
          ]
        }
      ]
    },
    {
      "cell_type": "code",
      "source": [
        "#Another example with init constructor\n",
        "class Student:\n",
        "  def check_pass_fail(self):\n",
        "    if self.marks>=40:\n",
        "      return True\n",
        "    else:\n",
        "      return False\n",
        "\n",
        "\n",
        "\n",
        "  def __init__(self, name, marks):\n",
        "    self.name= name\n",
        "    self.marks =marks\n",
        "\n",
        "student1=Student(\"Harry\", 85)\n",
        "student2= Student(\"Janet\", 30)\n",
        "print(student1.name)\n",
        "print(student1.marks)\n",
        "print(student2.name)\n",
        "print(student2.marks)\n",
        "\n",
        "did_pass =student1.check_pass_fail()\n",
        "print(did_pass)\n",
        "\n",
        "did_pass =student2.check_pass_fail()\n",
        "print(did_pass)"
      ],
      "metadata": {
        "colab": {
          "base_uri": "https://localhost:8080/"
        },
        "id": "-l8Dfc4BdhR2",
        "outputId": "2c660f7c-9000-408b-eb2d-ea3bd7f73c65"
      },
      "execution_count": null,
      "outputs": [
        {
          "output_type": "stream",
          "name": "stdout",
          "text": [
            "Harry\n",
            "85\n",
            "Janet\n",
            "30\n",
            "True\n",
            "False\n"
          ]
        }
      ]
    },
    {
      "cell_type": "code",
      "source": [
        "#Another example of object oriented programming\n",
        "\n",
        "class Complex:\n",
        "  def __init__(self, real, imag):\n",
        "    self.real= real\n",
        "    self.imag= imag\n",
        "\n",
        "  def add(self, number):\n",
        "    real=self.real+ number.real\n",
        "    imag=self.imag+ number.imag\n",
        "    result= Complex(real, imag)\n",
        "    return result\n",
        "\n",
        "\n",
        "n1=Complex(5, 6)\n",
        "n2= Complex(-4, 2)\n",
        "\n",
        "result =n1.add(n2)\n",
        "print(\"real=\", result.real)\n",
        "print(\"imag=\", result.imag)"
      ],
      "metadata": {
        "colab": {
          "base_uri": "https://localhost:8080/"
        },
        "id": "Y2W2xdbpfizf",
        "outputId": "074ff887-586c-4d2e-eef8-d9c88c1ddc55"
      },
      "execution_count": null,
      "outputs": [
        {
          "output_type": "stream",
          "name": "stdout",
          "text": [
            "real= 1\n",
            "imag= 8\n"
          ]
        }
      ]
    },
    {
      "cell_type": "code",
      "source": [
        "#exercise: To create a class named Triangle\n",
        "\n",
        "\n",
        "class Triangle:\n",
        "  def __init__(self, a, b, c):\n",
        "    self.a=a\n",
        "    self.b=b\n",
        "    self.c=c\n",
        "  def get_perimeter(self):\n",
        "    perimeter = self.a+self.b+self.c\n",
        "    return perimeter\n",
        "\n",
        "\n",
        "t1=Triangle(3,4,5)\n",
        "perimeter = t1.get_perimeter()\n",
        "\n",
        "print(\"The perimeter of the t1 Triangle is\", perimeter)\n"
      ],
      "metadata": {
        "colab": {
          "base_uri": "https://localhost:8080/"
        },
        "id": "PQtelhglhYWA",
        "outputId": "7d33b98a-e253-451f-8cbf-849e83a3d1f4"
      },
      "execution_count": null,
      "outputs": [
        {
          "output_type": "stream",
          "name": "stdout",
          "text": [
            "The perimeter of the t1 Triangle is 12\n"
          ]
        }
      ]
    },
    {
      "cell_type": "markdown",
      "source": [
        "#Inheritence"
      ],
      "metadata": {
        "id": "nOzOC1U6ynfY"
      }
    },
    {
      "cell_type": "markdown",
      "source": [
        "Properities of one class are inherited in another class\n",
        "Inheritence are of 3 types:\n",
        "\n",
        "\n",
        "*   Single inheritence\n",
        "*   Multiple inheritence\n",
        "*   Multilevel inheritence\n",
        "\n"
      ],
      "metadata": {
        "id": "rhGFstgZzEyQ"
      }
    },
    {
      "cell_type": "markdown",
      "source": [
        "#Single inheritence\n",
        "### When we inherit a class into another class, this procedure is called single inherience"
      ],
      "metadata": {
        "id": "XTDy3xoqUSbi"
      }
    },
    {
      "cell_type": "code",
      "source": [
        "#Example of single inheritance:\n",
        "\n",
        "#Parent class\n",
        "class Flower:\n",
        "  def type(self):\n",
        "    print(\"This is a red flower\")\n",
        "\n",
        "#Daughter class\n",
        "class Plant(Flower): # --> Single inheritence\n",
        "  def colour(self):\n",
        "    print(\"This is a red colour\")\n",
        "\n",
        "#object --> small\n",
        "small = Plant()\n",
        "small.colour()\n",
        "\n",
        "#We can access properties of both parent class as well as the daughter class here\n",
        "small.type()\n",
        "\n"
      ],
      "metadata": {
        "colab": {
          "base_uri": "https://localhost:8080/"
        },
        "id": "ZZRI-_b5ykrz",
        "outputId": "713b47a9-67be-4231-f026-89cc12e159f3"
      },
      "execution_count": 33,
      "outputs": [
        {
          "output_type": "stream",
          "name": "stdout",
          "text": [
            "This is a red colour\n",
            "This is a red flower\n"
          ]
        }
      ]
    },
    {
      "cell_type": "markdown",
      "source": [
        "#Multiple inheritence\n",
        "###When we inherit two or more classes into a single class, that is known as multiple inheritence"
      ],
      "metadata": {
        "id": "C2YTMyw9Wko1"
      }
    },
    {
      "cell_type": "code",
      "source": [
        "#Example of Multiple inheritance\n",
        "\n",
        "class Flower:\n",
        "  def category(self):\n",
        "    print(\"It is a beautiful red rose\")\n",
        "\n",
        "class Plant:\n",
        "  def type(self):\n",
        "    print(\"This a small plant\")\n",
        "\n",
        "class purchaser(Plant,Flower):       #Multiple inheritence\n",
        "  def final(self):\n",
        "    print(\" I have both flower as well plant\")\n",
        "\n",
        "\n",
        "white= purchaser()\n",
        "white.type()\n",
        "white.category()\n",
        "white.final()"
      ],
      "metadata": {
        "colab": {
          "base_uri": "https://localhost:8080/"
        },
        "id": "MkA6Dffb1xvN",
        "outputId": "c7a859ba-22d7-41cf-9c4f-cc651d8e3f57"
      },
      "execution_count": null,
      "outputs": [
        {
          "output_type": "stream",
          "name": "stdout",
          "text": [
            "This a small plant\n",
            "It is a beautiful red rose\n",
            " I have both flower as well plant\n"
          ]
        }
      ]
    },
    {
      "cell_type": "code",
      "source": [
        "#Multilevel inheritence\n",
        "#In multilevel inheritence, the first class is inherited to second class, the\n",
        "#second class is being inherited to 3rd class, 3rd to 4th class and so on...\n",
        "\n",
        "class Mother:\n",
        "  is_badmindon= 2\n",
        "\n",
        "class Daughter(Mother): #daughter class has its own properties as well as its mother's class\n",
        "  is_badminton =3\n",
        "  def play(self):\n",
        "    print(\"I play 3 hrs a day\")\n",
        "\n",
        "\n",
        "class granddaughter(Daughter): #has properties of mother as well as daughter class\n",
        "  is_badminton =4\n",
        "  def is_play(self):\n",
        "    print(\"I play 3 hrs a day\")\n",
        "\n",
        "one= Mother()\n",
        "two= Daughter()\n",
        "three = granddaughter()\n",
        "\n",
        "#two.play()\n",
        "#print(two.is_badminton)\n",
        "\n",
        "\n"
      ],
      "metadata": {
        "id": "DwgXrqdGs4Ue",
        "colab": {
          "base_uri": "https://localhost:8080/"
        },
        "outputId": "0e6da9fb-9eb6-42af-c041-d962f2ab152f"
      },
      "execution_count": null,
      "outputs": [
        {
          "output_type": "stream",
          "name": "stdout",
          "text": [
            "3\n"
          ]
        }
      ]
    },
    {
      "cell_type": "markdown",
      "source": [
        "#Methods and Variables\n",
        "\n",
        "1) Public: Accessible variables\n",
        "\n",
        "2) Protected variables: accessef with the child class\n",
        "\n",
        "3) private: accessed with the class name\n"
      ],
      "metadata": {
        "id": "Fg_0Y-p5S95D"
      }
    },
    {
      "cell_type": "code",
      "source": [
        "class Student:\n",
        "  no_of_subjects= 5 #public\n",
        "  _prot =4 #protected varible\n",
        "  __pri=3 #private varible\n",
        "\n",
        "  def __init__(self, aname, amarks, astandard):\n",
        "    self.name=aname\n",
        "    self.marks= amarks\n",
        "    self.standard= astandard\n",
        "\n",
        "  def details(self):\n",
        "    return f\"Name is {self.name}, marks are {self.marks} and standard is {self.standard}\"\n",
        "\n",
        "one =Student(\"Riya\", 65, 11)\n",
        "print(one.details())\n",
        "\n",
        "print(one.no_of_subjects) #private\n",
        "print(Student._prot)\n",
        "print(one._Student__pri) #nae mangling\n"
      ],
      "metadata": {
        "colab": {
          "base_uri": "https://localhost:8080/"
        },
        "id": "JRuu-tz4S3Ox",
        "outputId": "20ac939a-2eb4-4e25-dcb8-3e3ae6501dd7"
      },
      "execution_count": null,
      "outputs": [
        {
          "output_type": "stream",
          "name": "stdout",
          "text": [
            "Name is Riya, marks are 65 and standard is 11\n",
            "5\n",
            "4\n",
            "3\n"
          ]
        }
      ]
    },
    {
      "cell_type": "markdown",
      "source": [
        "#Classmethods:\n",
        "\n",
        "Classmethods can be accessed from any instance or any class\n",
        "\n",
        "if we want to make a method that can be accessed by instance as well as class and the arguement which we pass and we don't want to take self then we use classmethod.\n"
      ],
      "metadata": {
        "id": "_OAJD4GH--ln"
      }
    },
    {
      "cell_type": "code",
      "source": [
        "class Student():\n",
        "  no_of_subjects= 5\n",
        "  def __init__(self, aname, asection, amarks):\n",
        "      self.name =aname\n",
        "      self.section= asection\n",
        "      self.marks= amarks\n",
        "\n",
        "  def details(self):\n",
        "    return f\"Name is {self.name}, section is {self.section} and marks are {self.amarks}\"\n",
        "\n",
        "  @classmethod\n",
        "  def change_subjects(cls, leaves):\n",
        "    cls.no_of_subjects=leaves\n",
        "\n",
        "one = Student(\"Rita\", \"A\", 64)\n",
        "two = Student(\"Rohan\", \"A\", 45)\n",
        "Student.change_subjects(10)\n",
        "print(one.no_of_subjects)"
      ],
      "metadata": {
        "colab": {
          "base_uri": "https://localhost:8080/"
        },
        "id": "lT8_VfOz-bjU",
        "outputId": "196ee463-810e-4464-8fce-633d1bec59db"
      },
      "execution_count": null,
      "outputs": [
        {
          "output_type": "stream",
          "name": "stdout",
          "text": [
            "10\n"
          ]
        }
      ]
    },
    {
      "cell_type": "code",
      "source": [
        "#inheritance\n",
        "\n"
      ],
      "metadata": {
        "id": "LrptVpB_CP-E"
      },
      "execution_count": 27,
      "outputs": []
    }
  ]
}