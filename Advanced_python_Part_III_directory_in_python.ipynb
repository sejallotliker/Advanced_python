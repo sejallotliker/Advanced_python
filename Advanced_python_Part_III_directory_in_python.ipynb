{
  "nbformat": 4,
  "nbformat_minor": 0,
  "metadata": {
    "colab": {
      "provenance": [],
      "authorship_tag": "ABX9TyNvzCmOj4YKWDf8qVt5HVLr",
      "include_colab_link": true
    },
    "kernelspec": {
      "name": "python3",
      "display_name": "Python 3"
    },
    "language_info": {
      "name": "python"
    }
  },
  "cells": [
    {
      "cell_type": "markdown",
      "metadata": {
        "id": "view-in-github",
        "colab_type": "text"
      },
      "source": [
        "<a href=\"https://colab.research.google.com/github/sejallotliker/Advanced_python/blob/main/Advanced_python_Part_III_directory_in_python.ipynb\" target=\"_parent\"><img src=\"https://colab.research.google.com/assets/colab-badge.svg\" alt=\"Open In Colab\"/></a>"
      ]
    },
    {
      "cell_type": "markdown",
      "source": [
        "#Directory in python\n",
        "\n",
        "There are different methods available in the OS module for creating a directory.\n",
        "\n",
        "os.mkdir()\n",
        "os.makedirs()\n",
        "\n",
        "os.mkdir() method in python is used to create a directory named path --> with the specified numeric mode.\n",
        "\n",
        "This method raise File Exists error if the directory to be created already exists."
      ],
      "metadata": {
        "id": "9S0dvBULsIVA"
      }
    },
    {
      "cell_type": "code",
      "source": [
        "import os\n",
        "make_directory = \"tutorial_directory\"\n",
        "path_directory = \"/content/drive/MyDrive/Extra courses/Python Programming course/Master in advanced python\""
      ],
      "metadata": {
        "id": "gJ1Brpdus99C"
      },
      "execution_count": 2,
      "outputs": []
    },
    {
      "cell_type": "code",
      "source": [
        "from google.colab import drive\n",
        "drive.mount('/content/drive')"
      ],
      "metadata": {
        "colab": {
          "base_uri": "https://localhost:8080/"
        },
        "id": "zACfJQrKtRgR",
        "outputId": "8c88e81b-cc21-4e75-87b9-0b8719a2fb1f"
      },
      "execution_count": 1,
      "outputs": [
        {
          "output_type": "stream",
          "name": "stdout",
          "text": [
            "Mounted at /content/drive\n"
          ]
        }
      ]
    },
    {
      "cell_type": "code",
      "source": [
        "path = os.path.join(path_directory, make_directory)\n",
        "os.mkdir(path)\n",
        "print( \"This directory has been created! \")"
      ],
      "metadata": {
        "colab": {
          "base_uri": "https://localhost:8080/"
        },
        "id": "rnUTD9iWtp4T",
        "outputId": "e34e724a-5eab-4aea-dbd0-2c347b2b1c92"
      },
      "execution_count": 8,
      "outputs": [
        {
          "output_type": "stream",
          "name": "stdout",
          "text": [
            "This directory has been created! \n"
          ]
        }
      ]
    },
    {
      "cell_type": "markdown",
      "source": [
        "#Using os.makedirs()\n",
        "\n",
        "os.makedir() method in python is used to create a directory recursively.\n",
        "\n",
        "That means while make leaf directory if any intermediate-level directory is missing, os.makedirs() method will create them all."
      ],
      "metadata": {
        "id": "F4Uvw5qquW3n"
      }
    },
    {
      "cell_type": "code",
      "source": [
        "import os\n",
        "name_dir = \"Sejal\"\n",
        "path_dir = \"/content/drive/MyDrive/Extra courses/Python Programming course/Master in advanced python/my_test_dir/dir_1/dir_2\"\n",
        "final_dir = os.path.join(path_dir, name_dir)\n",
        "os.makedirs(final_dir)\n",
        "print(\"Directory has been created!\")"
      ],
      "metadata": {
        "colab": {
          "base_uri": "https://localhost:8080/"
        },
        "id": "AAEOspOHuDq7",
        "outputId": "dd826354-da5d-4111-a2f8-dbc4e0a91b0e"
      },
      "execution_count": 9,
      "outputs": [
        {
          "output_type": "stream",
          "name": "stdout",
          "text": [
            "Directory has been created!\n"
          ]
        }
      ]
    },
    {
      "cell_type": "markdown",
      "source": [
        "\n",
        "#Mode in the directory\n"
      ],
      "metadata": {
        "id": "bQY6HCGfANds"
      }
    },
    {
      "cell_type": "code",
      "source": [
        "import os\n",
        "make_dir = \"Sejal\"\n",
        "path_dir = \"/content/drive/MyDrive/Extra courses/Python Programming course/Master in advanced python/\"\n",
        "mode = 0o666\n",
        "join_path = os.path.join(path_dir, make_dir)\n",
        "os.mkdir(join_path, mode)\n",
        "print(\"Directory has been created!\")"
      ],
      "metadata": {
        "colab": {
          "base_uri": "https://localhost:8080/"
        },
        "id": "EdavoLPguVKZ",
        "outputId": "ff7f313b-27b0-464a-903b-4eeb34140471"
      },
      "execution_count": 10,
      "outputs": [
        {
          "output_type": "stream",
          "name": "stdout",
          "text": [
            "Directory has been created!\n"
          ]
        }
      ]
    },
    {
      "cell_type": "code",
      "source": [],
      "metadata": {
        "id": "ml0Z4BUSBD9i"
      },
      "execution_count": null,
      "outputs": []
    }
  ]
}