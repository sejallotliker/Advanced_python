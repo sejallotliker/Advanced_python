{
  "nbformat": 4,
  "nbformat_minor": 0,
  "metadata": {
    "colab": {
      "provenance": [],
      "authorship_tag": "ABX9TyOdBNLMbGe2A1XWZRy3B6KX",
      "include_colab_link": true
    },
    "kernelspec": {
      "name": "python3",
      "display_name": "Python 3"
    },
    "language_info": {
      "name": "python"
    }
  },
  "cells": [
    {
      "cell_type": "markdown",
      "metadata": {
        "id": "view-in-github",
        "colab_type": "text"
      },
      "source": [
        "<a href=\"https://colab.research.google.com/github/sejallotliker/Advanced_python/blob/main/Advanced_python_udemy_part_II.ipynb\" target=\"_parent\"><img src=\"https://colab.research.google.com/assets/colab-badge.svg\" alt=\"Open In Colab\"/></a>"
      ]
    },
    {
      "cell_type": "markdown",
      "source": [
        "#Threads in python programming"
      ],
      "metadata": {
        "id": "Gg3ut-HyeHoF"
      }
    },
    {
      "cell_type": "markdown",
      "source": [
        "* A thread is kind of like a process.\n",
        "\n",
        "Process --> (it's a sequence of control flow).\n",
        "\n",
        "A --> B --> C\n",
        "\n",
        "* Except that it exists entirely inside a process and shares resources.\n",
        "\n",
        "* Data is shared in threads as resources.\n",
        "\n",
        "* A single process may have multiple threads of execution.\n",
        "\n",
        "* Useful when an application wants to perform many concurrent tasks on shared data.\n",
        "\n",
        "* Example: Loading pages, animations etc."
      ],
      "metadata": {
        "id": "OdI_BoDxeLez"
      }
    },
    {
      "cell_type": "markdown",
      "source": [
        "###Problems with threads:\n",
        "\n",
        "`Scheduling`:\n",
        "To execute a threaded program, one must rapidly switch between threads.\n",
        "\n",
        "* This can be done by user process.\n",
        "\n",
        "* Also can be done by kernels.\n",
        "\n",
        "* Resource sharing: Since threads share memory and other resources, must be very careful.\n",
        "\n",
        "* Operations performed in one thread can cause problem in another."
      ],
      "metadata": {
        "id": "o1I9cLrXe84E"
      }
    },
    {
      "cell_type": "markdown",
      "source": [
        "#Synchronization:\n",
        "\n",
        "* Threads often need to coordinate actions.\n",
        "\n",
        "* Can get \"race conditions\".\n",
        "(outcome dependent on order of thread execution).\n",
        "\n",
        "* Often need to use locking primitives.\n"
      ],
      "metadata": {
        "id": "CMX5MoRugF_-"
      }
    },
    {
      "cell_type": "markdown",
      "source": [
        "#Thread scheduling:"
      ],
      "metadata": {
        "id": "_sMBsbilgoN9"
      }
    },
    {
      "cell_type": "markdown",
      "source": [
        "1. Tightly controlled by a global interpreter lock and scheduler.\n",
        "\n",
        "2. Only a single thread is allowed to be executing in the python interpreter at once.\n",
        "\n",
        "3. Thread switching only occurs between the execution of individual byte codes.\n",
        "\n",
        "4. Long running calculations in c/ c++ can block execution of all other threads.\n",
        "\n",
        "5. However most i/p and o/p operations do not block.\n"
      ],
      "metadata": {
        "id": "CwtjTvahgv8L"
      }
    },
    {
      "cell_type": "markdown",
      "source": [
        "#Comments:\n",
        "\n",
        "* Python threads are more restrictive than c\n",
        "\n",
        "* Effectiveness may be limited on the multiple CPUs (due to interpretor lock).\n",
        "\n",
        "* Threads can interact strangely with other python modules."
      ],
      "metadata": {
        "id": "pA4UGdeAhqR9"
      }
    },
    {
      "cell_type": "code",
      "execution_count": null,
      "metadata": {
        "colab": {
          "base_uri": "https://localhost:8080/"
        },
        "id": "GcO3P_8IeDLL",
        "outputId": "cb5b5a05-8498-4498-da9c-e36c78519b7c"
      },
      "outputs": [
        {
          "output_type": "stream",
          "name": "stdout",
          "text": [
            "Sejal 45\n",
            "Neha  40\n",
            "Nisha 42\n",
            "\n",
            " exit\n"
          ]
        }
      ],
      "source": [
        "import threading\n",
        "\n",
        "class example(threading.Thread):  #threading.thread\n",
        "  def __init__(self, aname, amarks): #init\n",
        "    threading.Thread.__init__(self)\n",
        "    self.name = aname\n",
        "    self.marks = amarks\n",
        "\n",
        "  def run(self): #We need to use run\n",
        "    print(str(self.name)+ \" \" + str(self.marks))\n",
        "\n",
        "#same as calling objects\n",
        "\n",
        "e1 = example(\"Sejal\", 45)\n",
        "e2 = example(\"Neha \", 40)\n",
        "e3 = example(\"Nisha\", 42)\n",
        "\n",
        "\n",
        "e1.start()\n",
        "e2.start()\n",
        "e3.start()\n",
        "\n",
        "print(\"\\n exit\")"
      ]
    },
    {
      "cell_type": "code",
      "source": [
        "#Without using classes and objects\n",
        "\n",
        "import threading\n",
        "import time\n",
        "\n",
        "def square(a):\n",
        "  print(\"This function will calculate square root\")\n",
        "  for i in a:\n",
        "    time.sleep(0.5)\n",
        "    print(\"Square is : \", i*i)\n",
        "\n",
        "def cube(a):\n",
        "  print(\"This function will calculate the cube\")\n",
        "  for i in a:\n",
        "    time.sleep(0.5)\n",
        "    print(\"Cube is :\", i*i*i)\n",
        "\n",
        "arr =[1, 2, 3, 4, 5, 6]\n",
        "\n",
        "t1 = time.time()\n",
        "\n",
        "square(arr)\n",
        "cube(arr)\n",
        "\n",
        "print(f'Total time taken is {time.time()-t1} s')"
      ],
      "metadata": {
        "colab": {
          "base_uri": "https://localhost:8080/"
        },
        "id": "nao755ynRS-S",
        "outputId": "2b71db16-e958-41f0-bb35-a1e0212fbb96"
      },
      "execution_count": null,
      "outputs": [
        {
          "output_type": "stream",
          "name": "stdout",
          "text": [
            "This function will calculate square root\n",
            "Square is :  1\n",
            "Square is :  4\n",
            "Square is :  9\n",
            "Square is :  16\n",
            "Square is :  25\n",
            "Square is :  36\n",
            "This function will calculate the cube\n",
            "Cube is : 1\n",
            "Cube is : 8\n",
            "Cube is : 27\n",
            "Cube is : 64\n",
            "Cube is : 125\n",
            "Cube is : 216\n",
            "Total time taken is 6.005552053451538 s\n"
          ]
        }
      ]
    },
    {
      "cell_type": "code",
      "source": [
        "#To write a programme for threading with classes and objects and functions\n",
        "\n",
        "import threading\n",
        "import time\n",
        "\n",
        "a = 0\n",
        "\n",
        "class Student(threading.Thread):\n",
        "  def __init__(self, aname, astandard, acounter ):\n",
        "      threading.Thread.__init__(self)\n",
        "      self.name = aname\n",
        "      self.standard = astandard\n",
        "      self.counter = acounter\n",
        "\n",
        "  def run(self):\n",
        "    print(\"Name is : \"+ self.name)\n",
        "    present_time(self.name, self.counter, 6)\n",
        "    print(\"Standard is : \"+ self.standard )\n",
        "\n",
        "def present_time(thread_Name, delay_time, acounter):\n",
        "  while acounter:\n",
        "    if a:\n",
        "      thread_Name.exit()\n",
        "    time.sleep(delay_time)\n",
        "    print(\"%s: %s\" % (thread_Name, time.ctime(time.time())))\n",
        "    acounter = -1\n",
        "\n",
        "s1 = Student(\"Sejal\", 10, 1)\n",
        "s2 = Student(\"Needhi\", 10, 2)\n",
        "\n",
        "s1.start()\n",
        "s2.start()\n",
        "\n",
        "#s1.join()\n",
        "#s2.join()\n",
        "\n",
        "#print(\" Exit the main thread \")\n"
      ],
      "metadata": {
        "colab": {
          "base_uri": "https://localhost:8080/"
        },
        "id": "9C7ZIAvO08kt",
        "outputId": "b4cf097c-1bad-4c1a-e300-474c0b757a05"
      },
      "execution_count": null,
      "outputs": [
        {
          "output_type": "stream",
          "name": "stdout",
          "text": [
            "Needhi: Wed Jan 29 10:06:09 2025\n",
            "Sejal: Wed Jan 29 10:06:09 2025\n",
            "Name is : Sejal\n",
            "Name is : NeedhiNeedhi: Wed Jan 29 10:06:09 2025\n",
            "Sejal: Wed Jan 29 10:06:09 2025\n",
            "\n",
            "Needhi: Wed Jan 29 10:06:09 2025\n",
            "Sejal: Wed Jan 29 10:06:09 2025\n"
          ]
        }
      ]
    },
    {
      "cell_type": "markdown",
      "source": [
        "###To create threads using functions and main functions"
      ],
      "metadata": {
        "id": "tweYcLSbhqgs"
      }
    },
    {
      "cell_type": "code",
      "source": [
        "import threading\n",
        "\n",
        "def find_square(a):\n",
        "  print (\"square is:  {}\".format(a*a))\n",
        "\n",
        "def find_cube(a):\n",
        "  print (\"cube is : {}\".format(a*a*a))\n",
        "\n",
        "if __name__== \"__main__\":\n",
        "  a1 = threading.Thread(target = find_square, args =(2,))\n",
        "  a2 = threading.Thread(target = find_cube, args=(2, ))\n",
        "\n",
        "  a1.start() #Strating of my thread 1\n",
        "  a2.start() #starting of my thread 2\n",
        "\n",
        "  a1.join() #waiting till the tread 1 is completely executed\n",
        "  a2.join() #waiting till the thread 2 is completely executed\n",
        "\n",
        "  print(\"Completed\")"
      ],
      "metadata": {
        "id": "0hM5B8M11m9t",
        "colab": {
          "base_uri": "https://localhost:8080/"
        },
        "outputId": "1f0fe2ab-9a66-4bf1-bd44-9d361b303a39"
      },
      "execution_count": null,
      "outputs": [
        {
          "output_type": "stream",
          "name": "stdout",
          "text": [
            "square is:  4\n",
            "cube is : 8\n",
            "Completed\n"
          ]
        }
      ]
    },
    {
      "cell_type": "markdown",
      "source": [
        "#Multithreading using threads:\n"
      ],
      "metadata": {
        "id": "7yd0iUpl-xLC"
      }
    },
    {
      "cell_type": "code",
      "source": [
        "from ast import main\n",
        "import threading\n",
        "import os\n",
        "\n",
        "\n",
        "def a1():\n",
        "  print(\"Task 1: {}\".format(threading.current_thread().name))\n",
        "  print(\"Id of task 1 is: {}\".format(os.getpid))\n",
        "\n",
        "\n",
        "def a2():\n",
        "  print(\"Task 2: {}\".format(threading.current_thread().name))\n",
        "  print(\"Id of task 2 is : {}\".format(os.getpid()))\n",
        "\n",
        "#Multithreading using Python\n",
        "if __name__ == '__main__':\n",
        "  print(\"ID: {}\".format(os.getpid()))\n",
        "  print(\"Main Thread : {}\".format(threading.current_thread().name))\n",
        "  t1 = threading.Thread(target = a1, name = 't1')\n",
        "  t2 = threading.Thread(target = a2, name = 't2')\n",
        "\n",
        "  t1.start()\n",
        "  t2.start()\n",
        "\n",
        "  t1.join()\n",
        "  t2.join()\n",
        "\n",
        "  print(\"Completed\")"
      ],
      "metadata": {
        "colab": {
          "base_uri": "https://localhost:8080/"
        },
        "id": "Y5AbGCx9-0Gu",
        "outputId": "a49dbfbd-477c-43f0-f932-d56a490a1587"
      },
      "execution_count": null,
      "outputs": [
        {
          "output_type": "stream",
          "name": "stdout",
          "text": [
            "ID: 373\n",
            "Main Thread : MainThread\n",
            "Task 1: t1\n",
            "Id of task 1 is: <built-in function getpid>\n",
            "Task 2: t2\n",
            "Id of task 2 is : 373\n",
            "Completed\n"
          ]
        }
      ]
    },
    {
      "cell_type": "code",
      "source": [
        "#Multithreading using threads\n",
        "\n",
        "import threading\n",
        "import time\n",
        "\n",
        "class one(threading.Thread):\n",
        "  def __init__(self, id , name, i):\n",
        "    threading.Thread.__init__(self)\n",
        "    self.id = id\n",
        "    self.name = name\n",
        "    self.i = i\n",
        "\n",
        "  def run(self):\n",
        "    thread_test(self.name, self.i, 3)\n",
        "    print(\"%s has finished execution \" %self.name)\n",
        "\n",
        "def thread_test(name, wait, i):\n",
        "  while i:\n",
        "    time.sleep(wait)\n",
        "    print(\"Running %s \" %name)\n",
        "    i = i -1\n",
        "\n",
        "if __name__ == '__main__':\n",
        "  t1 = one(1, \"thread one\", 1)\n",
        "  t2 = one(2, \"thread two\", 2)\n",
        "  t3 = one(3, \"thread three\", 3)\n",
        "\n",
        "  t1.start()\n",
        "  t2.start()\n",
        "  t3.start()\n",
        "\n",
        "  t1.join()\n",
        "  t2.join()\n",
        "  t3.join()\n",
        "\n",
        "  print(\"Completed\")"
      ],
      "metadata": {
        "colab": {
          "base_uri": "https://localhost:8080/"
        },
        "id": "-OhsHcJUB885",
        "outputId": "b79d027c-959b-4c8d-f579-47c8a11cd276"
      },
      "execution_count": null,
      "outputs": [
        {
          "output_type": "stream",
          "name": "stdout",
          "text": [
            "Running thread one \n",
            "Running thread one \n",
            "Running thread two \n",
            "Running thread one \n",
            "thread one has finished execution \n",
            "Running thread three \n",
            "Running thread two \n",
            "Running thread two \n",
            "thread two has finished execution \n",
            "Running thread three \n",
            "Running thread three \n",
            "thread three has finished execution \n",
            "Completed\n"
          ]
        }
      ]
    },
    {
      "cell_type": "markdown",
      "source": [
        "#Thread synchronisation"
      ],
      "metadata": {
        "id": "isd2VKgFEYFD"
      }
    },
    {
      "cell_type": "markdown",
      "source": [
        "###Thread synchronization is defined as a mechanism which ensures that two or more `concurrent` threads do not simultaneously execute some particular program segment known as `critical section`\n",
        "\n",
        "###Critical section refers to the parts of the program where the shared resources is accessed.\n",
        "\n"
      ],
      "metadata": {
        "id": "A4hgsTRwFf0Z"
      }
    },
    {
      "cell_type": "code",
      "source": [
        "import threading\n",
        "import time\n",
        "\n",
        "lock = threading.Lock()\n",
        "\n",
        "def one():\n",
        "  for i in range(4):\n",
        "    lock.acquire()\n",
        "    print(\"Lock has been acquired\")\n",
        "    print(\"One function is being executed\")\n",
        "    lock.release()\n",
        "\n",
        "def two():\n",
        "  for i in range(4):\n",
        "    lock.acquire()\n",
        "    print(\"Lock has been acquired\")\n",
        "    print(\"Two function is being executed\")\n",
        "    lock.release()\n",
        "\n",
        "\n",
        "if __name__== '__main__':\n",
        "  t1 = threading.Thread(target = one)\n",
        "  t2 = threading.Thread(target = two)\n",
        "\n",
        "  t1.start()\n",
        "  t2.start()\n",
        "\n",
        "  t1.join()\n",
        "  t2.join()\n",
        "\n",
        "  print(\"Completed\")"
      ],
      "metadata": {
        "colab": {
          "base_uri": "https://localhost:8080/"
        },
        "id": "ZpIYtQMzCDyT",
        "outputId": "695f5142-5067-4dee-a224-329c14abce35"
      },
      "execution_count": null,
      "outputs": [
        {
          "output_type": "stream",
          "name": "stdout",
          "text": [
            "Lock has been acquired\n",
            "One function is being executed\n",
            "Lock has been acquired\n",
            "One function is being executed\n",
            "Lock has been acquired\n",
            "One function is being executed\n",
            "Lock has been acquired\n",
            "One function is being executed\n",
            "Lock has been acquired\n",
            "Two function is being executed\n",
            "Lock has been acquired\n",
            "Two function is being executed\n",
            "Lock has been acquired\n",
            "Two function is being executed\n",
            "Lock has been acquired\n",
            "Two function is being executed\n",
            "Completed\n"
          ]
        }
      ]
    },
    {
      "cell_type": "markdown",
      "source": [
        "#Thread synchronization using lock"
      ],
      "metadata": {
        "id": "x-LWRd6OYbTb"
      }
    },
    {
      "cell_type": "code",
      "source": [
        "import threading\n",
        "import time\n",
        "\n",
        "class One(threading.Thread):\n",
        "  def __init__(self, marks, name, counter):\n",
        "    threading.Thread.__init__(self)\n",
        "    self.marks = marks\n",
        "    self.name = name\n",
        "    self.counter = counter\n",
        "\n",
        "  def run(self):\n",
        "    print(\"The starting name is \" + self.name)\n",
        "    threadLock.acquire()\n",
        "    declare_time(self.name, self.counter, 2)\n",
        "    threadLock.release()\n",
        "\n",
        "\n",
        "def declare_time(threadName, delay, counter):\n",
        "  while counter:\n",
        "    time.sleep(delay)\n",
        "    print(\"%s: %s\" % (threadName, time.ctime(time.time())))\n",
        "    counter = counter - 1\n",
        "\n",
        "threadLock = threading.Lock()\n",
        "threads = []\n",
        "\n",
        "t1 = One(21, \"first thread\", 1)\n",
        "t2 = One(25, \"second thread\", 2)\n",
        "\n",
        "t1.start()\n",
        "t2.start()\n",
        "\n",
        "threads.append(t1)\n",
        "threads.append(t2)\n",
        "\n",
        "for t in threads:\n",
        "  t.join()\n",
        "\n",
        "print(\"Completed\")\n"
      ],
      "metadata": {
        "colab": {
          "base_uri": "https://localhost:8080/"
        },
        "id": "gY9tz5BhYCKE",
        "outputId": "85446dad-3d27-487c-cedb-49bdf1cc7217"
      },
      "execution_count": null,
      "outputs": [
        {
          "output_type": "stream",
          "name": "stdout",
          "text": [
            "The starting name is first thread\n",
            "The starting name is second thread\n",
            "first thread: Fri Jan 31 17:28:50 2025\n",
            "first thread: Fri Jan 31 17:28:51 2025\n",
            "second thread: Fri Jan 31 17:28:53 2025\n",
            "second thread: Fri Jan 31 17:28:55 2025\n",
            "Completed\n"
          ]
        }
      ]
    },
    {
      "cell_type": "markdown",
      "source": [
        "#Thread synchronization using Rlock"
      ],
      "metadata": {
        "id": "sgyqLGFkaQBi"
      }
    },
    {
      "cell_type": "code",
      "source": [
        "from threading import *\n",
        "import time\n",
        "\n",
        "a = RLock()\n",
        "\n",
        "def find_factorial(n):\n",
        "  a.acquire()\n",
        "  if n == 0:\n",
        "    answer =1\n",
        "  else:\n",
        "    answer = n*find_factorial(n-1)\n",
        "  a.release()\n",
        "  return answer\n",
        "\n",
        "def find(n):\n",
        "  print(f'The factorial of {n} is {find_factorial(n)}')\n",
        "\n",
        "#To make threads:\n",
        "a1 = Thread(target = find, args = (4,))\n",
        "a2 = Thread(target = find, args = (5,))\n",
        "\n",
        "a1.start()\n",
        "a2.start()\n",
        "\n",
        "a1.join()\n",
        "a2.join()\n",
        "\n",
        "print(\"Completed\")\n"
      ],
      "metadata": {
        "id": "qLPFn2vkaU-K",
        "colab": {
          "base_uri": "https://localhost:8080/"
        },
        "outputId": "8c13fa1e-4ddf-4b2d-c566-edf002037ece"
      },
      "execution_count": null,
      "outputs": [
        {
          "output_type": "stream",
          "name": "stdout",
          "text": [
            "The factorial of 4 is 24\n",
            "The factorial of 5 is 120\n",
            "Completed\n"
          ]
        }
      ]
    },
    {
      "cell_type": "markdown",
      "source": [
        "#Thread using queue module"
      ],
      "metadata": {
        "id": "Y-P2DQBjYD7V"
      }
    },
    {
      "cell_type": "code",
      "source": [
        "import queue\n",
        "import threading\n",
        "import time\n",
        "\n",
        "a = 0\n",
        "\n",
        "class one(threading.Thread):\n",
        "  def __init__(self, ID, name, b):\n",
        "    threading.Thread.__init__(self)\n",
        "    self.ID = ID\n",
        "    self.name = name\n",
        "    self.b = b\n",
        "\n",
        "  def run(self):\n",
        "    print(\" Starting \" + self.name)\n",
        "    details(self.name, self.b)\n",
        "    print(\"Exit\" + self.name)\n",
        "\n",
        "\n",
        "def details(threadName, b):\n",
        "  while not a:\n",
        "    queue_Lock.acquire()\n",
        "    if not queue_work.empty():\n",
        "      data = queue_work.get()\n",
        "      queue_Lock.release()\n",
        "      print(\"%s processing %s\" % (threadName, data))\n",
        "    else:\n",
        "      queue_Lock.release()\n",
        "    time.sleep(1)\n",
        "\n",
        "\n",
        "thread_list = [\"A\", \"B\", \"C\"]\n",
        "names = [\"One\", \"Two\", \"Three\", \"Four\", \"Five\"]\n",
        "queue_Lock = threading.Lock()\n",
        "queue_work = queue.Queue(10)\n",
        "threads = []\n",
        "ID = 1\n",
        "\n",
        "for tname in thread_list:\n",
        "  thread = one(ID, tname, queue_work)\n",
        "  thread.start()\n",
        "  threads.append(thread)\n",
        "  ID += 1\n",
        "\n",
        "queue_Lock.acquire()\n",
        "for word in names:\n",
        "  queue_work.put(word)\n",
        "queue_Lock.release()\n",
        "\n",
        "while not queue_work.empty():\n",
        "  pass\n",
        "\n",
        "a = 1\n",
        "\n",
        "for t in threads:\n",
        "  t.join()\n",
        "\n",
        "print(\"Completed\")"
      ],
      "metadata": {
        "colab": {
          "base_uri": "https://localhost:8080/"
        },
        "id": "JYXurV0RXzqO",
        "outputId": "4522af6e-64d7-4e08-acc3-2fc4737c90a6"
      },
      "execution_count": null,
      "outputs": [
        {
          "output_type": "stream",
          "name": "stdout",
          "text": [
            " Starting A\n",
            " Starting B Starting C\n",
            "\n",
            "B processing One\n",
            "C processing Two\n",
            "A processing Three\n",
            "B processing Four\n",
            "C processing Five\n",
            "ExitA\n",
            "ExitB\n",
            "ExitC\n",
            "Completed\n"
          ]
        }
      ]
    },
    {
      "cell_type": "markdown",
      "source": [
        "#Semaphore:\n",
        "Semaphore can be used to limit the access to the shared resources with limited capacity. It is an advanced part of synchronization."
      ],
      "metadata": {
        "id": "McJLDHpSoS0v"
      }
    },
    {
      "cell_type": "code",
      "source": [
        "from threading import *\n",
        "import time\n",
        "\n",
        "a = Semaphore(3)\n",
        "\n",
        "def details(a_name):\n",
        "  a.acquire()\n",
        "  for i in range(4):\n",
        "    print(\"Python\", end = \"\")\n",
        "    time.sleep(1.5)\n",
        "    print(a_name)\n",
        "\n",
        "    a.release()\n",
        "\n",
        "a1 = Thread(target = details, args = (\"A Thread\",))\n",
        "a2 = Thread(target = details, args = (\"B Thread\",))\n",
        "a3 = Thread(target = details, args = (\"C Thread\",))\n",
        "a4 = Thread(target = details, args = (\"D Thread\",))\n",
        "\n",
        "\n",
        "a1.start()\n",
        "a2.start()\n",
        "a3.start()\n",
        "a4.start()\n",
        "\n",
        "a1.join()\n",
        "a2.join()\n",
        "a3.join()\n",
        "a4.join()\n",
        "\n",
        "print(\"Completed\")"
      ],
      "metadata": {
        "colab": {
          "base_uri": "https://localhost:8080/"
        },
        "id": "hGsBiLwGopmK",
        "outputId": "16d9251b-e16e-4380-f2de-a9b7637328a6"
      },
      "execution_count": null,
      "outputs": [
        {
          "output_type": "stream",
          "name": "stdout",
          "text": [
            "PythonPythonPythonA Thread\n",
            "PythonPythonC Thread\n",
            "PythonB Thread\n",
            "PythonA Thread\n",
            "PythonD Thread\n",
            "PythonC Thread\n",
            "PythonB Thread\n",
            "PythonA Thread\n",
            "PythonD Thread\n",
            "PythonC Thread\n",
            "PythonB Thread\n",
            "PythonA Thread\n",
            "D Thread\n",
            "PythonC Thread\n",
            "B Thread\n",
            "D Thread\n",
            "Completed\n"
          ]
        }
      ]
    },
    {
      "cell_type": "markdown",
      "source": [
        "#Bounded semaphore:\n",
        "A bounded semaphore checks to make sure its current value does not exceed its initila value. If it does, value Error is raised."
      ],
      "metadata": {
        "id": "XNEhMRfRrw7b"
      }
    },
    {
      "cell_type": "code",
      "source": [
        "import threading\n",
        "import time\n",
        "\n",
        "var = 2\n",
        "a = threading.BoundedSemaphore(value = var)\n",
        "\n",
        "def one():\n",
        "  a.acquire()\n",
        "  print(threading.current_thread().name + \" acquire the value\")\n",
        "  time.sleep(0.5)\n",
        "\n",
        "  a.release()\n",
        "  print(threading.current_thread().name + \" release the value\")\n",
        "\n",
        "names = []\n",
        "for i in range(1, 5):\n",
        "  a_name = threading.Thread(name = \" Thread \" + str(i), target = one)\n",
        "  names.append(a_name)\n",
        "\n",
        "for i in names:\n",
        "  i.start()\n",
        "\n",
        "for i in names:\n",
        "  i.join()\n",
        "\n",
        "print(\"Completed\")\n"
      ],
      "metadata": {
        "colab": {
          "base_uri": "https://localhost:8080/"
        },
        "id": "rc2voDWcqUWT",
        "outputId": "1fd0a7aa-ffeb-4b87-8d1b-177e465bf54e"
      },
      "execution_count": null,
      "outputs": [
        {
          "output_type": "stream",
          "name": "stdout",
          "text": [
            " Thread 1 acquire the value\n",
            " Thread 2 acquire the value\n",
            " Thread 1 release the value\n",
            " Thread 3 acquire the value Thread 2 release the value\n",
            " Thread 4 acquire the value\n",
            "\n",
            " Thread 3 release the value\n",
            " Thread 4 release the value\n",
            "Completed\n"
          ]
        }
      ]
    },
    {
      "cell_type": "markdown",
      "source": [
        "#Inter thread communication using event method:\n",
        "\n",
        "Sometimes one thread may be required to communicate to another thread depending on the requirements. This is known as inter thread communication.\n",
        "\n",
        "`Event() method` , the Event object is considered or recommended as the simplest and easiest method for communication between 2 threads.\n",
        "\n",
        "This system works on 2 conditions where the event object is enabled means `set()` or disabled means `clear()`"
      ],
      "metadata": {
        "id": "Br18B__bkNqF"
      }
    },
    {
      "cell_type": "code",
      "source": [
        "import time\n",
        "import threading\n",
        "\n",
        "class flower:\n",
        "  def colour(self):\n",
        "    print(\"The colour for the flower is white\")\n",
        "    event_object.wait(4)\n",
        "    print(\"got the flower\")\n",
        "\n",
        "    def kind(self):\n",
        "      time.sleep(5)\n",
        "      print(\"The kind of flower is lily\")\n",
        "      print(\"I want to buy this\")\n",
        "      event_object.wait()\n",
        "\n",
        "    def buy(self):\n",
        "      time.sleep(10)\n",
        "      print(\"I want lily from the buyer\")\n",
        "      event_object.set()\n",
        "\n",
        "F = flower()\n",
        "\n",
        "if __name__ == '__main__':\n",
        "\n",
        "  event_object = threading.Event()\n",
        "\n",
        "t1 = threading.Thread(target = F.colour())\n",
        "t2 = threading.Thread(target = F.kind())\n",
        "t3 = threading.Thread(target = F.buy())\n",
        "\n",
        "t1.start()\n",
        "t2.start()\n",
        "t3.start()"
      ],
      "metadata": {
        "colab": {
          "base_uri": "https://localhost:8080/",
          "height": 245
        },
        "id": "qrDsA_-Fk-6V",
        "outputId": "963a8957-72af-40e9-ec47-d0a3217f3a1c"
      },
      "execution_count": null,
      "outputs": [
        {
          "output_type": "stream",
          "name": "stdout",
          "text": [
            "The colour for the flower is white\n",
            "got the flower\n"
          ]
        },
        {
          "output_type": "error",
          "ename": "AttributeError",
          "evalue": "'flower' object has no attribute 'buy'",
          "traceback": [
            "\u001b[0;31m---------------------------------------------------------------------------\u001b[0m",
            "\u001b[0;31mAttributeError\u001b[0m                            Traceback (most recent call last)",
            "\u001b[0;32m<ipython-input-15-ad039c9869e1>\u001b[0m in \u001b[0;36m<cell line: 0>\u001b[0;34m()\u001b[0m\n\u001b[1;32m     27\u001b[0m \u001b[0mt1\u001b[0m \u001b[0;34m=\u001b[0m \u001b[0mthreading\u001b[0m\u001b[0;34m.\u001b[0m\u001b[0mThread\u001b[0m\u001b[0;34m(\u001b[0m\u001b[0mtarget\u001b[0m \u001b[0;34m=\u001b[0m \u001b[0mF\u001b[0m\u001b[0;34m.\u001b[0m\u001b[0mcolour\u001b[0m\u001b[0;34m(\u001b[0m\u001b[0;34m)\u001b[0m\u001b[0;34m)\u001b[0m\u001b[0;34m\u001b[0m\u001b[0;34m\u001b[0m\u001b[0m\n\u001b[1;32m     28\u001b[0m \u001b[0;31m#t2 = threading.Thread(target = F.kind())\u001b[0m\u001b[0;34m\u001b[0m\u001b[0;34m\u001b[0m\u001b[0m\n\u001b[0;32m---> 29\u001b[0;31m \u001b[0mt3\u001b[0m \u001b[0;34m=\u001b[0m \u001b[0mthreading\u001b[0m\u001b[0;34m.\u001b[0m\u001b[0mThread\u001b[0m\u001b[0;34m(\u001b[0m\u001b[0mtarget\u001b[0m \u001b[0;34m=\u001b[0m \u001b[0mF\u001b[0m\u001b[0;34m.\u001b[0m\u001b[0mbuy\u001b[0m\u001b[0;34m(\u001b[0m\u001b[0;34m)\u001b[0m\u001b[0;34m)\u001b[0m\u001b[0;34m\u001b[0m\u001b[0;34m\u001b[0m\u001b[0m\n\u001b[0m\u001b[1;32m     30\u001b[0m \u001b[0;34m\u001b[0m\u001b[0m\n\u001b[1;32m     31\u001b[0m \u001b[0mt1\u001b[0m\u001b[0;34m.\u001b[0m\u001b[0mstart\u001b[0m\u001b[0;34m(\u001b[0m\u001b[0;34m)\u001b[0m\u001b[0;34m\u001b[0m\u001b[0;34m\u001b[0m\u001b[0m\n",
            "\u001b[0;31mAttributeError\u001b[0m: 'flower' object has no attribute 'buy'"
          ]
        }
      ]
    },
    {
      "cell_type": "markdown",
      "source": [
        "#Inter thread commutication with communication\n",
        "\n"
      ],
      "metadata": {
        "id": "AxyDU4rKngkD"
      }
    },
    {
      "cell_type": "markdown",
      "source": [
        "The condition() method is the upgradation of that even object used for inter thread communication.\n",
        "\n",
        "condition represents some type of state change between threads.\n"
      ],
      "metadata": {
        "id": "K3BO5Tf0UkuQ"
      }
    },
    {
      "cell_type": "code",
      "source": [
        "import random\n",
        "import time\n",
        "\n",
        "from threading import *\n",
        "\n",
        "class Student:\n",
        "\n",
        "  def name(self):\n",
        "    condition_object.acquire()\n",
        "    print(\"Name of the student is Krishna\")\n",
        "    condition_object.wait(5)\n",
        "    print(\"Name successfully added\")\n",
        "    condition_object.release()\n",
        "\n",
        "\n",
        "  def appointment_time(self):\n",
        "    condition_object.acquire()\n",
        "    time = 0\n",
        "    time = random.randint(1, 12)\n",
        "    print(\"Checking the time\")\n",
        "    condition_object.wait(5)\n",
        "    print(\"Time appointed to you is {} PM\".format(time))\n",
        "    print(\"Please be there on time. Thank you \")\n",
        "    condition_object.notify()\n",
        "    condition_object.release()\n",
        "\n",
        "\n",
        "condition_object = Condition()\n",
        "\n",
        "\n",
        "one = Student()\n",
        "t1 = Thread(target = one.name())\n",
        "t2 = Thread(target = one.appointment_time())\n",
        "\n",
        "t1.start()\n",
        "t2.start()"
      ],
      "metadata": {
        "colab": {
          "base_uri": "https://localhost:8080/"
        },
        "id": "k5a0O8saXC_I",
        "outputId": "c236f16e-78fe-41c1-fe74-f758b4970c25"
      },
      "execution_count": 10,
      "outputs": [
        {
          "output_type": "stream",
          "name": "stdout",
          "text": [
            "Name of the student is Krishna\n",
            "Name successfully added\n",
            "Checking the time\n",
            "Time appointed to you is 6 PM\n",
            "Please be there on time. Thank you \n"
          ]
        }
      ]
    },
    {
      "cell_type": "markdown",
      "source": [
        "#Inter thread communication using queue method\n",
        "\n",
        "Building a thread - safe priority\n",
        "\n",
        "queue\n"
      ],
      "metadata": {
        "id": "gLtDW4G-acVe"
      }
    },
    {
      "cell_type": "code",
      "source": [
        "from threading import *\n",
        "import queue\n",
        "import random\n",
        "import time\n",
        "\n",
        "a = []\n",
        "\n",
        "def marks(c):\n",
        "  while True:\n",
        "    b = random.randint(1, 10)\n",
        "    print(\"Marks obtained are: \", b)\n",
        "    q.put(b)\n",
        "    print(\"Marks are displayed !!\")\n",
        "    time.sleep(5)\n",
        "\n",
        "\n",
        "def obtained(c):\n",
        "  while True:\n",
        "    print(\"Total marks obtained \")\n",
        "    print(\"Marks you got are : \", q.get())\n",
        "    time.sleep(5)\n",
        "\n",
        "q = queue.Queue()\n",
        "\n",
        "\n",
        "t1 = Thread(target = obtained, args = (q,))\n",
        "t2 = Thread(target = marks, args = (q,))\n",
        "\n",
        "t1.start()\n",
        "t2.start()\n"
      ],
      "metadata": {
        "colab": {
          "base_uri": "https://localhost:8080/"
        },
        "id": "qFZOrcA3aZbD",
        "outputId": "69ed2274-ad93-429a-af8d-721413f4cd24"
      },
      "execution_count": 27,
      "outputs": [
        {
          "output_type": "stream",
          "name": "stdout",
          "text": [
            "Total marks obtained \n",
            "Marks obtained are:  7\n",
            "Marks are displayed !!\n",
            "Marks you got are :  7"
          ]
        }
      ]
    },
    {
      "cell_type": "code",
      "source": [],
      "metadata": {
        "id": "Ld0qLTxuh-uM"
      },
      "execution_count": null,
      "outputs": []
    }
  ]
}