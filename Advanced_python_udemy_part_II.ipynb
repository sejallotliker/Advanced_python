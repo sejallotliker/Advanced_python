{
  "nbformat": 4,
  "nbformat_minor": 0,
  "metadata": {
    "colab": {
      "provenance": [],
      "authorship_tag": "ABX9TyO/5FASmfqGPszAh1jdjk12",
      "include_colab_link": true
    },
    "kernelspec": {
      "name": "python3",
      "display_name": "Python 3"
    },
    "language_info": {
      "name": "python"
    }
  },
  "cells": [
    {
      "cell_type": "markdown",
      "metadata": {
        "id": "view-in-github",
        "colab_type": "text"
      },
      "source": [
        "<a href=\"https://colab.research.google.com/github/sejallotliker/Advanced_python/blob/main/Advanced_python_udemy_part_II.ipynb\" target=\"_parent\"><img src=\"https://colab.research.google.com/assets/colab-badge.svg\" alt=\"Open In Colab\"/></a>"
      ]
    },
    {
      "cell_type": "markdown",
      "source": [
        "#Threads in python programming"
      ],
      "metadata": {
        "id": "Gg3ut-HyeHoF"
      }
    },
    {
      "cell_type": "markdown",
      "source": [
        "* A thread is kind of like a process.\n",
        "\n",
        "Process --> (it's a sequence of control flow).\n",
        "\n",
        "A --> B --> C\n",
        "\n",
        "* Except that it exists entirely inside a process and shares resources.\n",
        "\n",
        "* Data is shared in threads as resources.\n",
        "\n",
        "* A single process may have multiple threads of execution.\n",
        "\n",
        "* Useful when an application wants to perform many concurrent tasks on shared data.\n",
        "\n",
        "* Example: Loading pages, animations etc."
      ],
      "metadata": {
        "id": "OdI_BoDxeLez"
      }
    },
    {
      "cell_type": "markdown",
      "source": [
        "###Problems with threads:\n",
        "\n",
        "`Scheduling`:\n",
        "To execute a threaded program, one must rapidly switch between threads.\n",
        "\n",
        "* This can be done by user process.\n",
        "\n",
        "* Also can be done by kernels.\n",
        "\n",
        "* Resource sharing: Since threads share memory and other resources, must be very careful.\n",
        "\n",
        "* Operations performed in one thread can cause problem in another."
      ],
      "metadata": {
        "id": "o1I9cLrXe84E"
      }
    },
    {
      "cell_type": "markdown",
      "source": [
        "#Synchronization:\n",
        "\n",
        "* Threads often need to coordinate actions.\n",
        "\n",
        "* Can get \"race conditions\".\n",
        "(outcome dependent on order of thread execution).\n",
        "\n",
        "* Often need to use locking primitives.\n"
      ],
      "metadata": {
        "id": "CMX5MoRugF_-"
      }
    },
    {
      "cell_type": "markdown",
      "source": [
        "#Thread scheduling:"
      ],
      "metadata": {
        "id": "_sMBsbilgoN9"
      }
    },
    {
      "cell_type": "markdown",
      "source": [
        "1. Tightly controlled by a global interpreter lock and scheduler.\n",
        "\n",
        "2. Only a single thread is allowed to be executing in the python interpreter at once.\n",
        "\n",
        "3. Thread switching only occurs between the execution of individual byte codes.\n",
        "\n",
        "4. Long running calculations in c/ c++ can block execution of all other threads.\n",
        "\n",
        "5. However most i/p and o/p operations do not block.\n"
      ],
      "metadata": {
        "id": "CwtjTvahgv8L"
      }
    },
    {
      "cell_type": "markdown",
      "source": [
        "#Comments:\n",
        "\n",
        "* Python threads are more restrictive than c\n",
        "\n",
        "* Effectiveness may be limited on the multiple CPUs (due to interpretor lock).\n",
        "\n",
        "* Threads can interact strangely with other python modules."
      ],
      "metadata": {
        "id": "pA4UGdeAhqR9"
      }
    },
    {
      "cell_type": "code",
      "execution_count": 11,
      "metadata": {
        "colab": {
          "base_uri": "https://localhost:8080/"
        },
        "id": "GcO3P_8IeDLL",
        "outputId": "cb5b5a05-8498-4498-da9c-e36c78519b7c"
      },
      "outputs": [
        {
          "output_type": "stream",
          "name": "stdout",
          "text": [
            "Sejal 45\n",
            "Neha  40\n",
            "Nisha 42\n",
            "\n",
            " exit\n"
          ]
        }
      ],
      "source": [
        "import threading\n",
        "\n",
        "class example(threading.Thread):  #threading.thread\n",
        "  def __init__(self, aname, amarks): #init\n",
        "    threading.Thread.__init__(self)\n",
        "    self.name = aname\n",
        "    self.marks = amarks\n",
        "\n",
        "  def run(self): #We need to use run\n",
        "    print(str(self.name)+ \" \" + str(self.marks))\n",
        "\n",
        "#same as calling objects\n",
        "\n",
        "e1 = example(\"Sejal\", 45)\n",
        "e2 = example(\"Neha \", 40)\n",
        "e3 = example(\"Nisha\", 42)\n",
        "\n",
        "\n",
        "e1.start()\n",
        "e2.start()\n",
        "e3.start()\n",
        "\n",
        "print(\"\\n exit\")"
      ]
    }
  ]
}