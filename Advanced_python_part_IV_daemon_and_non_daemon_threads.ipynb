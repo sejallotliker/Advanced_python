{
  "nbformat": 4,
  "nbformat_minor": 0,
  "metadata": {
    "colab": {
      "provenance": [],
      "authorship_tag": "ABX9TyPL3PmP61NxmI+uOIINR4tf",
      "include_colab_link": true
    },
    "kernelspec": {
      "name": "python3",
      "display_name": "Python 3"
    },
    "language_info": {
      "name": "python"
    }
  },
  "cells": [
    {
      "cell_type": "markdown",
      "metadata": {
        "id": "view-in-github",
        "colab_type": "text"
      },
      "source": [
        "<a href=\"https://colab.research.google.com/github/sejallotliker/Advanced_python/blob/main/Advanced_python_part_IV_daemon_and_non_daemon_threads.ipynb\" target=\"_parent\"><img src=\"https://colab.research.google.com/assets/colab-badge.svg\" alt=\"Open In Colab\"/></a>"
      ]
    },
    {
      "cell_type": "markdown",
      "source": [
        "#Daemon threads:\n",
        "\n",
        "The threads which are always going to be running in the background that provides support to the main or non-daemon threads, those background executing threads are considered as Daemon threads.\n"
      ],
      "metadata": {
        "id": "CJxthyP7B-yq"
      }
    },
    {
      "cell_type": "markdown",
      "source": [
        "###Non- Daemon threads:\n"
      ],
      "metadata": {
        "id": "Rdtt6SkKCaFw"
      }
    },
    {
      "cell_type": "code",
      "execution_count": null,
      "metadata": {
        "colab": {
          "base_uri": "https://localhost:8080/"
        },
        "id": "WZ5pTXBIB2No",
        "outputId": "80b3376c-33e9-4ec8-be5b-e0f7b0558fb0"
      },
      "outputs": [
        {
          "output_type": "stream",
          "name": "stdout",
          "text": [
            "This is a non-daemon thread\n",
            "This is a non-daemon thread\n",
            "This is a main thread execution\n"
          ]
        }
      ],
      "source": [
        "#import threads --> we cannot use in python 3.\n",
        "#we need to use threading module.\n",
        "\n",
        "from threading import *\n",
        "import time\n",
        "\n",
        "def first_thread():\n",
        "  for i in range(6):\n",
        "    print(\"This is a non-daemon thread\")\n",
        "    time.sleep(3)\n",
        "\n",
        "T = Thread(target = first_thread)\n",
        "T.start()\n",
        "\n",
        "time.sleep(4)\n",
        "print(\"This is a main thread execution\")"
      ]
    },
    {
      "cell_type": "markdown",
      "source": [
        "###An example to show how daemon threads behave over non-daemon threads during program execution."
      ],
      "metadata": {
        "id": "A7kVYDfrDiFl"
      }
    },
    {
      "cell_type": "code",
      "source": [
        "from threading import *\n",
        "import time\n",
        "\n",
        "\n",
        "def first_thread():\n",
        "  for a in range(4):\n",
        "    print(\"First thread is here! \")\n",
        "    time.sleep(4)\n",
        "\n",
        "t1 = Thread(target = first_thread)\n",
        "t1.setDaemon(True)\n",
        "\n",
        "t1.start()\n",
        "time.sleep(3)\n",
        "print(\"This is a main thread execution\")\n"
      ],
      "metadata": {
        "colab": {
          "base_uri": "https://localhost:8080/"
        },
        "id": "jZ8fUHq4Dh3L",
        "outputId": "97b646af-4dec-4e0f-bb95-c6444135a5d8"
      },
      "execution_count": null,
      "outputs": [
        {
          "output_type": "stream",
          "name": "stderr",
          "text": [
            "<ipython-input-14-99a1ee9466b8>:11: DeprecationWarning: setDaemon() is deprecated, set the daemon attribute instead\n",
            "  t1.setDaemon(True)\n"
          ]
        },
        {
          "output_type": "stream",
          "name": "stdout",
          "text": [
            "First thread is here! \n",
            "This is a main thread execution\n"
          ]
        }
      ]
    },
    {
      "cell_type": "markdown",
      "source": [
        "#Three methods for setting daemon threads"
      ],
      "metadata": {
        "id": "G5zPLoYnrHyi"
      }
    },
    {
      "cell_type": "code",
      "source": [
        "import threading\n",
        "import time\n",
        "\n",
        "def one_fun():\n",
        "  while True: #whatever we write in while loop will surely be executed\n",
        "    print(f\"[{threading.current_thread().name}] print me this message\")\n",
        "    time.sleep(5)\n",
        "\n",
        "\n",
        "#target is used in order to call out the function in threads\n",
        "thread_daemon = threading.Thread(target = one_fun, name = \"thread-daemon\", daemon = True)\n",
        "\n",
        "'''\n",
        "2. Second method:\n",
        "#thread_daemon.daemon = True\n",
        "-----------------------------\n",
        "3. Third method:\n",
        "thread_daemon.setDaemon(True)\n",
        "'''\n",
        "thread_daemon.start()\n",
        "time.sleep(5)\n"
      ],
      "metadata": {
        "id": "Mz8FkU6mDXWE",
        "colab": {
          "base_uri": "https://localhost:8080/"
        },
        "outputId": "e33331fe-2cda-4c77-99b0-48e6df106c09"
      },
      "execution_count": 3,
      "outputs": [
        {
          "output_type": "stream",
          "name": "stdout",
          "text": [
            "[thread-daemon] print me this message\n",
            "[thread-daemon] print me this message\n"
          ]
        }
      ]
    },
    {
      "cell_type": "markdown",
      "source": [
        "#Pickling in python"
      ],
      "metadata": {
        "id": "hwy8OLmytfF5"
      }
    },
    {
      "cell_type": "markdown",
      "source": [
        "In Python, pickling is the process by which python objects are converted to byte streams.\n",
        "\n",
        "Pickling is about serializing the object structure in python.\n",
        "\n",
        "Unpickling is the process of retriving original python objects from the stored string representation i.e. from the pickle file.\n",
        "\n",
        "It is the process of converting a byte stream into the python object.\n",
        "\n",
        "\n",
        "* `Pickling`--> python object to byte stream\n",
        "\n",
        "* `unpickling` --> byte stream to python object"
      ],
      "metadata": {
        "id": "LgUZlDBQti3n"
      }
    },
    {
      "cell_type": "markdown",
      "source": [
        "#Pickling"
      ],
      "metadata": {
        "id": "rDMtJUovv22E"
      }
    },
    {
      "cell_type": "code",
      "source": [
        "import pickle\n",
        "\n",
        "def data_pickle():\n",
        "  items = {'Monday': 'Computer science', 'Tuesday': 'Solid state physics', 'wednesday': 'Machine learning'}\n",
        "  file_name = 'Information'\n",
        "  out_file = open(file_name, 'wb') #wb --> writing in binary mode\n",
        "  pickle.dump(items, out_file)\n",
        "  out_file.close()\n",
        "\n",
        "data_pickle()\n",
        "print(\"Pickling is done !!\")"
      ],
      "metadata": {
        "colab": {
          "base_uri": "https://localhost:8080/"
        },
        "id": "NZQCGMwzthG4",
        "outputId": "15c36929-259a-433f-9229-3ddbaf673af9"
      },
      "execution_count": 7,
      "outputs": [
        {
          "output_type": "stream",
          "name": "stdout",
          "text": [
            "Pickling is done !!\n"
          ]
        }
      ]
    },
    {
      "cell_type": "markdown",
      "source": [
        "#Unpickling"
      ],
      "metadata": {
        "id": "QTjMHKtdv5DD"
      }
    },
    {
      "cell_type": "code",
      "source": [
        "def data_unpickling():\n",
        "  file_name = 'Information'\n",
        "  file_out = open(file_name, 'rb') #rb --> reading in binary mode\n",
        "  data_new = pickle.load(file_out)\n",
        "  file_out.close()\n",
        "  return data_new\n",
        "\n",
        "data_unpickling()\n",
        "#"
      ],
      "metadata": {
        "colab": {
          "base_uri": "https://localhost:8080/"
        },
        "id": "lA5ew7btv6tM",
        "outputId": "8766a2c6-da8f-49e7-8e53-fdbc09de3eeb"
      },
      "execution_count": 12,
      "outputs": [
        {
          "output_type": "execute_result",
          "data": {
            "text/plain": [
              "{'Monday': 'Computer science',\n",
              " 'Tuesday': 'Solid state physics',\n",
              " 'wednesday': 'Machine learning'}"
            ]
          },
          "metadata": {},
          "execution_count": 12
        }
      ]
    },
    {
      "cell_type": "markdown",
      "source": [
        "#Pickling exceptions : pros and cons"
      ],
      "metadata": {
        "id": "GhkwKGVUwvL1"
      }
    },
    {
      "cell_type": "markdown",
      "source": [
        "1. Pickle.PicklingError: if pickle object doesn't support pickling.\n",
        "\n",
        "2. Pickle.UnpicklingError: in this case file contains bad or corrupted data\n",
        "\n",
        "3. EOF Error: End of file detected\n",
        "\n",
        "\n",
        "PROS:\n",
        "1. Comes handy to save complicated data.\n",
        "2. Easy to use, lighter and doesn't require several lines of code.\n",
        "3. The pickled file generated is not at all easily readable and thus provides some security.\n",
        "\n",
        "\n",
        "CONS:\n",
        "1. Languages other than python may not be able to reconstruct pickled python objects.\n",
        "2. Risk of unpickling data from malicious sources."
      ],
      "metadata": {
        "id": "-CXb_TfDw6gw"
      }
    }
  ]
}